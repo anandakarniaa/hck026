{
 "cells": [
  {
   "cell_type": "markdown",
   "metadata": {},
   "source": [
    "Kamu adalah seorang Python developer di perusahaan supermarket. Buatlah program sederhana untuk stock management. Program tersebut\n",
    "dapat melakukan:\n",
    "\n",
    "1. Pengisian inventory dimana user dapat menginputkan data berupa nama barang, kategori barang, dan harga barang\n",
    "2. Penampilan inventory stock barang yang tersedia. Menampilkan seluruh data yang diinputkan. Jika data belum dimasukkan, maka akan\n",
    "muncul pesan \"Data belum ada\".\n",
    "\n",
    "· Penyimpanan data yang diinputkan dapat menggunakan nested list seperti:\n",
    "\n",
    "data = [[namal, kategoril, hargal], [nama2, kategori2, harga2], [nama_dst, kategori_dst, harga_dst]]\n",
    "\n",
    "· Tiap fitur dibuat dalam bentuk function yang nantinya dapat dipanggil di sistemnya\n",
    ". Sistem dibuat dengan menggunakan while loop dimana program akan berhenti loop jika user input kata exit"
   ]
  },
  {
   "cell_type": "code",
   "execution_count": null,
   "metadata": {},
   "outputs": [],
   "source": [
    "# Program Manajemen Stok Supermarket\n",
    "\n",
    "# Inisialisasi inventory\n",
    "inventory = []\n",
    "\n",
    "def tambah_barang(nama, kategori, harga):\n",
    "    \"\"\"Fungsi untuk menambahkan barang ke inventory.\"\"\"\n",
    "    inventory.append([nama, kategori, harga])\n",
    "    print(f\"Barang '{nama}' berhasil ditambahkan.\")\n",
    "\n",
    "def tampilkan_inventory():\n",
    "    \"\"\"Fungsi untuk menampilkan inventory.\"\"\"\n",
    "    if not inventory:\n",
    "        print(\"Data belum ada.\")\n",
    "    else:\n",
    "        print(\"Inventory Stok Barang:\")\n",
    "        for index, item in enumerate(inventory):\n",
    "            print(f\"{index + 1}. Nama: {item[0]}, Kategori: {item[1]}, Harga: {item[2]}\")\n",
    "\n",
    "def main():\n",
    "    \"\"\"Fungsi utama untuk menjalankan program.\"\"\"\n",
    "    while True:\n",
    "        print(\"\\nMenu:\")\n",
    "        print(\"1. Tambah Barang\")\n",
    "        print(\"2. Tampilkan Inventory\")\n",
    "        print(\"Ketik 'exit' untuk keluar.\")\n",
    "        \n",
    "        pilihan = input(\"Pilih menu (1/2): \")\n",
    "        \n",
    "        if pilihan == '1':\n",
    "            nama = input(\"Masukkan nama barang: \")\n",
    "            kategori = input(\"Masukkan kategori barang: \")\n",
    "            harga = input(\"Masukkan harga barang: \")\n",
    "            tambah_barang(nama, kategori, harga)\n",
    "        \n",
    "        elif pilihan == '2':\n",
    "            tampilkan_inventory()\n",
    "        \n",
    "        elif pilihan.lower() == 'exit':\n",
    "            print(\"Keluar dari program.\")\n",
    "            break\n",
    "        \n",
    "        else:\n",
    "            print(\"Pilihan tidak valid. Silakan coba lagi.\")\n",
    "\n",
    "# Menjalankan program\n",
    "if __name__ == \"__main__\":\n",
    "    main()\n",
    "    "
   ]
  },
  {
   "cell_type": "code",
   "execution_count": 19,
   "metadata": {},
   "outputs": [],
   "source": [
    "def fun(*args):\n",
    "\n",
    "    n = ' '\n",
    "    print(\"Total arguments passed:\", n)"
   ]
  },
  {
   "cell_type": "markdown",
   "metadata": {},
   "source": [
    "import sys\n",
    "n = len(sys.argv)\n",
    "print(\"Total arguments passed:\", n)"
   ]
  },
  {
   "cell_type": "code",
   "execution_count": 28,
   "metadata": {},
   "outputs": [],
   "source": [
    "import sys\n",
    "\n",
    "def harga (*argv):\n",
    "    n =input(sys.argv)\n",
    "    print(\"Total arguments passed:\", n)"
   ]
  }
 ],
 "metadata": {
  "kernelspec": {
   "display_name": "Python 3",
   "language": "python",
   "name": "python3"
  },
  "language_info": {
   "codemirror_mode": {
    "name": "ipython",
    "version": 3
   },
   "file_extension": ".py",
   "mimetype": "text/x-python",
   "name": "python",
   "nbconvert_exporter": "python",
   "pygments_lexer": "ipython3",
   "version": "3.12.3"
  }
 },
 "nbformat": 4,
 "nbformat_minor": 2
}
